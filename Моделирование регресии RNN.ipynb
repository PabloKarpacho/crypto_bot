{
 "cells": [
  {
   "cell_type": "code",
   "execution_count": 1,
   "metadata": {},
   "outputs": [],
   "source": [
    "import pandas as pd\n",
    "from copy import deepcopy\n",
    "from config import api_key, secret\n",
    "from pybit.unified_trading import HTTP\n",
    "from get_candels import get_candels\n",
    "\n",
    "import pandas as pd\n",
    "import numpy as np\n",
    "import matplotlib.pyplot as plt\n",
    "from scipy.signal import argrelextrema\n",
    "from config import api_key, secret\n",
    "from pybit.unified_trading import HTTP\n",
    "from sklearn.metrics import mean_squared_error"
   ]
  },
  {
   "cell_type": "code",
   "execution_count": 2,
   "metadata": {},
   "outputs": [],
   "source": [
    "class get_candels:\n",
    "    def __init__(self, category = \"spot\", symbol = \"BTCUSDT\", interval = 60, limit = 1000, start=1672520400000, end=1688072400000):\n",
    "\n",
    "        self.session = HTTP(api_key=api_key, api_secret=secret, testnet=False)\n",
    "\n",
    "        self.category = category\n",
    "        self.symbol = symbol\n",
    "        self.interval = interval\n",
    "        self.limit = limit\n",
    "        self.start = start\n",
    "        self.end = end\n",
    "\n",
    "\n",
    "    def get_response(self):\n",
    "\n",
    "        response = self.session.get_kline(\n",
    "        category=self.category,\n",
    "        symbol=self.symbol,\n",
    "        interval=self.interval,\n",
    "        start=self.start,\n",
    "        end=self.end, limit = 1000\n",
    "        ).get('result')\n",
    "\n",
    "        return response\n",
    "    \n",
    "    def getting_data(self):\n",
    "\n",
    "        response = self.get_response()\n",
    "        \n",
    "        data = pd.DataFrame(response['list'])\n",
    "\n",
    "        data.rename(columns= {0 : 'time',   \n",
    "                      1:\"open\",\n",
    "                      2: \"high\",\n",
    "                      3: \"low\",\n",
    "                      4: \"close\",\n",
    "                      5 : \"volume\",\n",
    "                      6: \"turnover\"}, inplace=True)\n",
    "        \n",
    "        data['time'] = data['time'].apply(lambda x: pd.to_datetime(int(x[:-3]), unit='s'))\n",
    "\n",
    "        data[[\"open\", \"high\", \"low\", \"close\", \"volume\", \"turnover\"]] = data[[\"open\", \"high\", \"low\", \"close\", \"volume\", \"turnover\"]].astype(float)\n",
    "\n",
    "        data['date'] = data['time'].dt.date\n",
    "\n",
    "        data.sort_values(by='time', ignore_index=True, inplace=True)\n",
    "\n",
    "\n",
    "        return data"
   ]
  },
  {
   "cell_type": "markdown",
   "metadata": {},
   "source": [
    "Скачиваем данные"
   ]
  },
  {
   "cell_type": "code",
   "execution_count": 3,
   "metadata": {},
   "outputs": [
    {
     "name": "stdout",
     "output_type": "stream",
     "text": [
      "0\n",
      "1\n",
      "1676120400 1679720400\n",
      "2\n",
      "1679720400 1683320400\n",
      "3\n",
      "1683320400 1686920400\n",
      "4\n",
      "1686920400 1690520400\n",
      "5\n",
      "1690520400 1694120400\n",
      "6\n",
      "1694120400 1697720400\n"
     ]
    }
   ],
   "source": [
    "start=1672520400\n",
    "\n",
    "\n",
    "for i in range(7):\n",
    "    print(i)\n",
    "    if i == 0:\n",
    "        end = start + 3600 * 1000\n",
    "        gk = get_candels(start= int(start * 1000), end= int(end * 1000))\n",
    "        data = gk.getting_data()\n",
    "\n",
    "    else:\n",
    "        start = deepcopy(end)\n",
    "        end += 3600 * 1000\n",
    "        print(start, end)\n",
    "        gk = get_candels(start= int(start * 1000), end= int(end * 1000))\n",
    "        d = gk.getting_data()\n",
    "\n",
    "        data = pd.concat([data, d])\n"
   ]
  },
  {
   "cell_type": "code",
   "execution_count": 4,
   "metadata": {},
   "outputs": [
    {
     "data": {
      "text/html": [
       "<div>\n",
       "<style scoped>\n",
       "    .dataframe tbody tr th:only-of-type {\n",
       "        vertical-align: middle;\n",
       "    }\n",
       "\n",
       "    .dataframe tbody tr th {\n",
       "        vertical-align: top;\n",
       "    }\n",
       "\n",
       "    .dataframe thead th {\n",
       "        text-align: right;\n",
       "    }\n",
       "</style>\n",
       "<table border=\"1\" class=\"dataframe\">\n",
       "  <thead>\n",
       "    <tr style=\"text-align: right;\">\n",
       "      <th></th>\n",
       "      <th>time</th>\n",
       "      <th>open</th>\n",
       "      <th>high</th>\n",
       "      <th>low</th>\n",
       "      <th>close</th>\n",
       "      <th>volume</th>\n",
       "      <th>turnover</th>\n",
       "      <th>date</th>\n",
       "    </tr>\n",
       "  </thead>\n",
       "  <tbody>\n",
       "    <tr>\n",
       "      <th>0</th>\n",
       "      <td>2022-12-31 22:00:00</td>\n",
       "      <td>16548.09</td>\n",
       "      <td>16566.11</td>\n",
       "      <td>16471.44</td>\n",
       "      <td>16519.40</td>\n",
       "      <td>157.626338</td>\n",
       "      <td>2.604988e+06</td>\n",
       "      <td>2022-12-31</td>\n",
       "    </tr>\n",
       "    <tr>\n",
       "      <th>1</th>\n",
       "      <td>2022-12-31 23:00:00</td>\n",
       "      <td>16519.40</td>\n",
       "      <td>16549.92</td>\n",
       "      <td>16489.43</td>\n",
       "      <td>16541.80</td>\n",
       "      <td>117.408007</td>\n",
       "      <td>1.940086e+06</td>\n",
       "      <td>2022-12-31</td>\n",
       "    </tr>\n",
       "    <tr>\n",
       "      <th>2</th>\n",
       "      <td>2023-01-01 00:00:00</td>\n",
       "      <td>16541.80</td>\n",
       "      <td>16545.09</td>\n",
       "      <td>16509.76</td>\n",
       "      <td>16529.01</td>\n",
       "      <td>76.462545</td>\n",
       "      <td>1.263788e+06</td>\n",
       "      <td>2023-01-01</td>\n",
       "    </tr>\n",
       "    <tr>\n",
       "      <th>3</th>\n",
       "      <td>2023-01-01 01:00:00</td>\n",
       "      <td>16529.01</td>\n",
       "      <td>16555.95</td>\n",
       "      <td>16525.74</td>\n",
       "      <td>16551.38</td>\n",
       "      <td>43.388160</td>\n",
       "      <td>7.175444e+05</td>\n",
       "      <td>2023-01-01</td>\n",
       "    </tr>\n",
       "    <tr>\n",
       "      <th>4</th>\n",
       "      <td>2023-01-01 02:00:00</td>\n",
       "      <td>16551.38</td>\n",
       "      <td>16560.00</td>\n",
       "      <td>16538.48</td>\n",
       "      <td>16547.56</td>\n",
       "      <td>34.393567</td>\n",
       "      <td>5.691448e+05</td>\n",
       "      <td>2023-01-01</td>\n",
       "    </tr>\n",
       "    <tr>\n",
       "      <th>...</th>\n",
       "      <td>...</td>\n",
       "      <td>...</td>\n",
       "      <td>...</td>\n",
       "      <td>...</td>\n",
       "      <td>...</td>\n",
       "      <td>...</td>\n",
       "      <td>...</td>\n",
       "      <td>...</td>\n",
       "    </tr>\n",
       "    <tr>\n",
       "      <th>995</th>\n",
       "      <td>2023-10-19 09:00:00</td>\n",
       "      <td>28325.23</td>\n",
       "      <td>28408.51</td>\n",
       "      <td>28284.01</td>\n",
       "      <td>28399.52</td>\n",
       "      <td>233.927777</td>\n",
       "      <td>6.633191e+06</td>\n",
       "      <td>2023-10-19</td>\n",
       "    </tr>\n",
       "    <tr>\n",
       "      <th>996</th>\n",
       "      <td>2023-10-19 10:00:00</td>\n",
       "      <td>28399.52</td>\n",
       "      <td>28514.68</td>\n",
       "      <td>28376.00</td>\n",
       "      <td>28479.17</td>\n",
       "      <td>575.845020</td>\n",
       "      <td>1.638399e+07</td>\n",
       "      <td>2023-10-19</td>\n",
       "    </tr>\n",
       "    <tr>\n",
       "      <th>997</th>\n",
       "      <td>2023-10-19 11:00:00</td>\n",
       "      <td>28479.17</td>\n",
       "      <td>28495.61</td>\n",
       "      <td>28410.00</td>\n",
       "      <td>28452.85</td>\n",
       "      <td>166.232666</td>\n",
       "      <td>4.727775e+06</td>\n",
       "      <td>2023-10-19</td>\n",
       "    </tr>\n",
       "    <tr>\n",
       "      <th>998</th>\n",
       "      <td>2023-10-19 12:00:00</td>\n",
       "      <td>28452.85</td>\n",
       "      <td>28583.39</td>\n",
       "      <td>28424.87</td>\n",
       "      <td>28479.99</td>\n",
       "      <td>557.094214</td>\n",
       "      <td>1.587601e+07</td>\n",
       "      <td>2023-10-19</td>\n",
       "    </tr>\n",
       "    <tr>\n",
       "      <th>999</th>\n",
       "      <td>2023-10-19 13:00:00</td>\n",
       "      <td>28479.99</td>\n",
       "      <td>28588.86</td>\n",
       "      <td>28432.52</td>\n",
       "      <td>28486.36</td>\n",
       "      <td>366.061674</td>\n",
       "      <td>1.043276e+07</td>\n",
       "      <td>2023-10-19</td>\n",
       "    </tr>\n",
       "  </tbody>\n",
       "</table>\n",
       "<p>7000 rows × 8 columns</p>\n",
       "</div>"
      ],
      "text/plain": [
       "                   time      open      high       low     close      volume  \\\n",
       "0   2022-12-31 22:00:00  16548.09  16566.11  16471.44  16519.40  157.626338   \n",
       "1   2022-12-31 23:00:00  16519.40  16549.92  16489.43  16541.80  117.408007   \n",
       "2   2023-01-01 00:00:00  16541.80  16545.09  16509.76  16529.01   76.462545   \n",
       "3   2023-01-01 01:00:00  16529.01  16555.95  16525.74  16551.38   43.388160   \n",
       "4   2023-01-01 02:00:00  16551.38  16560.00  16538.48  16547.56   34.393567   \n",
       "..                  ...       ...       ...       ...       ...         ...   \n",
       "995 2023-10-19 09:00:00  28325.23  28408.51  28284.01  28399.52  233.927777   \n",
       "996 2023-10-19 10:00:00  28399.52  28514.68  28376.00  28479.17  575.845020   \n",
       "997 2023-10-19 11:00:00  28479.17  28495.61  28410.00  28452.85  166.232666   \n",
       "998 2023-10-19 12:00:00  28452.85  28583.39  28424.87  28479.99  557.094214   \n",
       "999 2023-10-19 13:00:00  28479.99  28588.86  28432.52  28486.36  366.061674   \n",
       "\n",
       "         turnover        date  \n",
       "0    2.604988e+06  2022-12-31  \n",
       "1    1.940086e+06  2022-12-31  \n",
       "2    1.263788e+06  2023-01-01  \n",
       "3    7.175444e+05  2023-01-01  \n",
       "4    5.691448e+05  2023-01-01  \n",
       "..            ...         ...  \n",
       "995  6.633191e+06  2023-10-19  \n",
       "996  1.638399e+07  2023-10-19  \n",
       "997  4.727775e+06  2023-10-19  \n",
       "998  1.587601e+07  2023-10-19  \n",
       "999  1.043276e+07  2023-10-19  \n",
       "\n",
       "[7000 rows x 8 columns]"
      ]
     },
     "execution_count": 4,
     "metadata": {},
     "output_type": "execute_result"
    }
   ],
   "source": [
    "data"
   ]
  },
  {
   "cell_type": "code",
   "execution_count": 5,
   "metadata": {},
   "outputs": [],
   "source": [
    "data.reset_index(drop= True, inplace=True)\n",
    "data.drop_duplicates(subset=['time'], inplace= True)"
   ]
  },
  {
   "cell_type": "markdown",
   "metadata": {},
   "source": [
    "Ищем максимумы и минимумы"
   ]
  },
  {
   "cell_type": "code",
   "execution_count": 6,
   "metadata": {},
   "outputs": [],
   "source": [
    "# for local maxima\n",
    "maxims = argrelextrema(data['close'].values, np.greater)\n",
    "\n",
    "# for local minima\n",
    "mins = argrelextrema(data['close'].values, np.less)"
   ]
  },
  {
   "cell_type": "code",
   "execution_count": 7,
   "metadata": {},
   "outputs": [],
   "source": [
    "max_data = list(maxims[0])\n",
    "min_data = list(mins[0])\n",
    "\n",
    "coeff = 0.001\n",
    "\n",
    "if max_data[0] < min_data[0]:\n",
    "    max_data = max_data[1::]\n",
    "if min_data[-1] > max_data[-1]:\n",
    "    min_data = min_data[:-1]\n",
    "res_max = []\n",
    "res_min = []\n",
    "for i in range(len(max_data)):\n",
    "    bp = data.iloc[min_data[i]]['close']\n",
    "    sp = data.iloc[max_data[i]]['close']\n",
    "    if (sp - bp) - coeff * (bp + sp) > 0:\n",
    "        res_max.append(max_data[i])\n",
    "        res_min.append(min_data[i])"
   ]
  },
  {
   "cell_type": "code",
   "execution_count": 8,
   "metadata": {},
   "outputs": [],
   "source": [
    "classes = []\n",
    "\n",
    "for i in range(len(data)):\n",
    "    if i in res_min:\n",
    "        classes.append(1)\n",
    "    elif i in res_max:\n",
    "        classes.append(-1)\n",
    "    else:\n",
    "        classes.append(0)"
   ]
  },
  {
   "cell_type": "markdown",
   "metadata": {},
   "source": [
    "Запишем классы в данные"
   ]
  },
  {
   "cell_type": "code",
   "execution_count": 9,
   "metadata": {},
   "outputs": [],
   "source": [
    "data['class'] = classes"
   ]
  },
  {
   "cell_type": "code",
   "execution_count": 10,
   "metadata": {},
   "outputs": [
    {
     "data": {
      "text/html": [
       "<div>\n",
       "<style scoped>\n",
       "    .dataframe tbody tr th:only-of-type {\n",
       "        vertical-align: middle;\n",
       "    }\n",
       "\n",
       "    .dataframe tbody tr th {\n",
       "        vertical-align: top;\n",
       "    }\n",
       "\n",
       "    .dataframe thead th {\n",
       "        text-align: right;\n",
       "    }\n",
       "</style>\n",
       "<table border=\"1\" class=\"dataframe\">\n",
       "  <thead>\n",
       "    <tr style=\"text-align: right;\">\n",
       "      <th></th>\n",
       "      <th>time</th>\n",
       "      <th>open</th>\n",
       "      <th>high</th>\n",
       "      <th>low</th>\n",
       "      <th>close</th>\n",
       "      <th>volume</th>\n",
       "      <th>turnover</th>\n",
       "      <th>date</th>\n",
       "      <th>class</th>\n",
       "    </tr>\n",
       "  </thead>\n",
       "  <tbody>\n",
       "    <tr>\n",
       "      <th>0</th>\n",
       "      <td>2022-12-31 22:00:00</td>\n",
       "      <td>16548.09</td>\n",
       "      <td>16566.11</td>\n",
       "      <td>16471.44</td>\n",
       "      <td>16519.40</td>\n",
       "      <td>157.626338</td>\n",
       "      <td>2.604988e+06</td>\n",
       "      <td>2022-12-31</td>\n",
       "      <td>0</td>\n",
       "    </tr>\n",
       "    <tr>\n",
       "      <th>1</th>\n",
       "      <td>2022-12-31 23:00:00</td>\n",
       "      <td>16519.40</td>\n",
       "      <td>16549.92</td>\n",
       "      <td>16489.43</td>\n",
       "      <td>16541.80</td>\n",
       "      <td>117.408007</td>\n",
       "      <td>1.940086e+06</td>\n",
       "      <td>2022-12-31</td>\n",
       "      <td>0</td>\n",
       "    </tr>\n",
       "    <tr>\n",
       "      <th>2</th>\n",
       "      <td>2023-01-01 00:00:00</td>\n",
       "      <td>16541.80</td>\n",
       "      <td>16545.09</td>\n",
       "      <td>16509.76</td>\n",
       "      <td>16529.01</td>\n",
       "      <td>76.462545</td>\n",
       "      <td>1.263788e+06</td>\n",
       "      <td>2023-01-01</td>\n",
       "      <td>0</td>\n",
       "    </tr>\n",
       "    <tr>\n",
       "      <th>3</th>\n",
       "      <td>2023-01-01 01:00:00</td>\n",
       "      <td>16529.01</td>\n",
       "      <td>16555.95</td>\n",
       "      <td>16525.74</td>\n",
       "      <td>16551.38</td>\n",
       "      <td>43.388160</td>\n",
       "      <td>7.175444e+05</td>\n",
       "      <td>2023-01-01</td>\n",
       "      <td>0</td>\n",
       "    </tr>\n",
       "    <tr>\n",
       "      <th>4</th>\n",
       "      <td>2023-01-01 02:00:00</td>\n",
       "      <td>16551.38</td>\n",
       "      <td>16560.00</td>\n",
       "      <td>16538.48</td>\n",
       "      <td>16547.56</td>\n",
       "      <td>34.393567</td>\n",
       "      <td>5.691448e+05</td>\n",
       "      <td>2023-01-01</td>\n",
       "      <td>0</td>\n",
       "    </tr>\n",
       "    <tr>\n",
       "      <th>...</th>\n",
       "      <td>...</td>\n",
       "      <td>...</td>\n",
       "      <td>...</td>\n",
       "      <td>...</td>\n",
       "      <td>...</td>\n",
       "      <td>...</td>\n",
       "      <td>...</td>\n",
       "      <td>...</td>\n",
       "      <td>...</td>\n",
       "    </tr>\n",
       "    <tr>\n",
       "      <th>6995</th>\n",
       "      <td>2023-10-19 09:00:00</td>\n",
       "      <td>28325.23</td>\n",
       "      <td>28408.51</td>\n",
       "      <td>28284.01</td>\n",
       "      <td>28399.52</td>\n",
       "      <td>233.927777</td>\n",
       "      <td>6.633191e+06</td>\n",
       "      <td>2023-10-19</td>\n",
       "      <td>0</td>\n",
       "    </tr>\n",
       "    <tr>\n",
       "      <th>6996</th>\n",
       "      <td>2023-10-19 10:00:00</td>\n",
       "      <td>28399.52</td>\n",
       "      <td>28514.68</td>\n",
       "      <td>28376.00</td>\n",
       "      <td>28479.17</td>\n",
       "      <td>575.845020</td>\n",
       "      <td>1.638399e+07</td>\n",
       "      <td>2023-10-19</td>\n",
       "      <td>-1</td>\n",
       "    </tr>\n",
       "    <tr>\n",
       "      <th>6997</th>\n",
       "      <td>2023-10-19 11:00:00</td>\n",
       "      <td>28479.17</td>\n",
       "      <td>28495.61</td>\n",
       "      <td>28410.00</td>\n",
       "      <td>28452.85</td>\n",
       "      <td>166.232666</td>\n",
       "      <td>4.727775e+06</td>\n",
       "      <td>2023-10-19</td>\n",
       "      <td>0</td>\n",
       "    </tr>\n",
       "    <tr>\n",
       "      <th>6998</th>\n",
       "      <td>2023-10-19 12:00:00</td>\n",
       "      <td>28452.85</td>\n",
       "      <td>28583.39</td>\n",
       "      <td>28424.87</td>\n",
       "      <td>28479.99</td>\n",
       "      <td>557.094214</td>\n",
       "      <td>1.587601e+07</td>\n",
       "      <td>2023-10-19</td>\n",
       "      <td>0</td>\n",
       "    </tr>\n",
       "    <tr>\n",
       "      <th>6999</th>\n",
       "      <td>2023-10-19 13:00:00</td>\n",
       "      <td>28479.99</td>\n",
       "      <td>28588.86</td>\n",
       "      <td>28432.52</td>\n",
       "      <td>28486.36</td>\n",
       "      <td>366.061674</td>\n",
       "      <td>1.043276e+07</td>\n",
       "      <td>2023-10-19</td>\n",
       "      <td>0</td>\n",
       "    </tr>\n",
       "  </tbody>\n",
       "</table>\n",
       "<p>7000 rows × 9 columns</p>\n",
       "</div>"
      ],
      "text/plain": [
       "                    time      open      high       low     close      volume  \\\n",
       "0    2022-12-31 22:00:00  16548.09  16566.11  16471.44  16519.40  157.626338   \n",
       "1    2022-12-31 23:00:00  16519.40  16549.92  16489.43  16541.80  117.408007   \n",
       "2    2023-01-01 00:00:00  16541.80  16545.09  16509.76  16529.01   76.462545   \n",
       "3    2023-01-01 01:00:00  16529.01  16555.95  16525.74  16551.38   43.388160   \n",
       "4    2023-01-01 02:00:00  16551.38  16560.00  16538.48  16547.56   34.393567   \n",
       "...                  ...       ...       ...       ...       ...         ...   \n",
       "6995 2023-10-19 09:00:00  28325.23  28408.51  28284.01  28399.52  233.927777   \n",
       "6996 2023-10-19 10:00:00  28399.52  28514.68  28376.00  28479.17  575.845020   \n",
       "6997 2023-10-19 11:00:00  28479.17  28495.61  28410.00  28452.85  166.232666   \n",
       "6998 2023-10-19 12:00:00  28452.85  28583.39  28424.87  28479.99  557.094214   \n",
       "6999 2023-10-19 13:00:00  28479.99  28588.86  28432.52  28486.36  366.061674   \n",
       "\n",
       "          turnover        date  class  \n",
       "0     2.604988e+06  2022-12-31      0  \n",
       "1     1.940086e+06  2022-12-31      0  \n",
       "2     1.263788e+06  2023-01-01      0  \n",
       "3     7.175444e+05  2023-01-01      0  \n",
       "4     5.691448e+05  2023-01-01      0  \n",
       "...            ...         ...    ...  \n",
       "6995  6.633191e+06  2023-10-19      0  \n",
       "6996  1.638399e+07  2023-10-19     -1  \n",
       "6997  4.727775e+06  2023-10-19      0  \n",
       "6998  1.587601e+07  2023-10-19      0  \n",
       "6999  1.043276e+07  2023-10-19      0  \n",
       "\n",
       "[7000 rows x 9 columns]"
      ]
     },
     "execution_count": 10,
     "metadata": {},
     "output_type": "execute_result"
    }
   ],
   "source": [
    "data"
   ]
  },
  {
   "cell_type": "markdown",
   "metadata": {},
   "source": [
    "Обрежем данные под 1-ю покупку"
   ]
  },
  {
   "cell_type": "code",
   "execution_count": 11,
   "metadata": {},
   "outputs": [
    {
     "data": {
      "text/plain": [
       "(6990, 9)"
      ]
     },
     "execution_count": 11,
     "metadata": {},
     "output_type": "execute_result"
    }
   ],
   "source": [
    "buy_index = data[data['class'] == 1].index[0]\n",
    "data = data[buy_index::]\n",
    "data.shape"
   ]
  },
  {
   "cell_type": "markdown",
   "metadata": {},
   "source": [
    "Разметка нормированной прибыли"
   ]
  },
  {
   "cell_type": "code",
   "execution_count": 12,
   "metadata": {},
   "outputs": [],
   "source": [
    "indexes  = list(data[data['class'] == 1].index)\n",
    "indexes.append(data.iloc[-1].name + 1)\n",
    "\n",
    "\n",
    "comission = 0.001\n",
    "revenue = []\n",
    "for i in range(len(indexes) - 1) :\n",
    "    df = data.loc[indexes[i]:indexes[i+1] - 1]\n",
    "    rev = []\n",
    "    for index, row in df.iterrows():\n",
    "        clas = row['class']\n",
    "        close = row['close']\n",
    "        if clas == 1:\n",
    "            buy = close\n",
    "            rev.append(0)\n",
    "        elif clas == 0:\n",
    "            dohod = (close - buy - (close + buy) * comission) / buy\n",
    "            rev.append(dohod)\n",
    "        elif clas == -1:\n",
    "            norm_dohod = (close - buy - (close + buy) * comission) / buy\n",
    "            rev.append(norm_dohod)\n",
    "\n",
    "    if len(rev) != df.shape[0]:\n",
    "        print(i)\n",
    "    rev = np.array(rev)/norm_dohod\n",
    "\n",
    "    revenue.append(rev)\n",
    "\n",
    "  "
   ]
  },
  {
   "cell_type": "markdown",
   "metadata": {},
   "source": [
    "Запишем нормированную прибыль в данные"
   ]
  },
  {
   "cell_type": "code",
   "execution_count": 13,
   "metadata": {},
   "outputs": [
    {
     "name": "stderr",
     "output_type": "stream",
     "text": [
      "C:\\Users\\Павел Карпов\\AppData\\Local\\Temp\\ipykernel_10704\\1647947869.py:2: SettingWithCopyWarning: \n",
      "A value is trying to be set on a copy of a slice from a DataFrame.\n",
      "Try using .loc[row_indexer,col_indexer] = value instead\n",
      "\n",
      "See the caveats in the documentation: https://pandas.pydata.org/pandas-docs/stable/user_guide/indexing.html#returning-a-view-versus-a-copy\n",
      "  data['norm_revenue'] = revenue\n"
     ]
    }
   ],
   "source": [
    "revenue = np.concatenate(revenue)\n",
    "data['norm_revenue'] = revenue"
   ]
  },
  {
   "cell_type": "code",
   "execution_count": 14,
   "metadata": {},
   "outputs": [
    {
     "data": {
      "text/html": [
       "<div>\n",
       "<style scoped>\n",
       "    .dataframe tbody tr th:only-of-type {\n",
       "        vertical-align: middle;\n",
       "    }\n",
       "\n",
       "    .dataframe tbody tr th {\n",
       "        vertical-align: top;\n",
       "    }\n",
       "\n",
       "    .dataframe thead th {\n",
       "        text-align: right;\n",
       "    }\n",
       "</style>\n",
       "<table border=\"1\" class=\"dataframe\">\n",
       "  <thead>\n",
       "    <tr style=\"text-align: right;\">\n",
       "      <th></th>\n",
       "      <th>time</th>\n",
       "      <th>open</th>\n",
       "      <th>high</th>\n",
       "      <th>low</th>\n",
       "      <th>close</th>\n",
       "      <th>volume</th>\n",
       "      <th>turnover</th>\n",
       "      <th>date</th>\n",
       "      <th>class</th>\n",
       "      <th>norm_revenue</th>\n",
       "    </tr>\n",
       "  </thead>\n",
       "  <tbody>\n",
       "    <tr>\n",
       "      <th>10</th>\n",
       "      <td>2023-01-01 08:00:00</td>\n",
       "      <td>16525.20</td>\n",
       "      <td>16532.82</td>\n",
       "      <td>16508.50</td>\n",
       "      <td>16513.86</td>\n",
       "      <td>56.835204</td>\n",
       "      <td>9.388235e+05</td>\n",
       "      <td>2023-01-01</td>\n",
       "      <td>1</td>\n",
       "      <td>0.000000</td>\n",
       "    </tr>\n",
       "    <tr>\n",
       "      <th>11</th>\n",
       "      <td>2023-01-01 09:00:00</td>\n",
       "      <td>16513.86</td>\n",
       "      <td>16541.26</td>\n",
       "      <td>16505.69</td>\n",
       "      <td>16537.52</td>\n",
       "      <td>46.099953</td>\n",
       "      <td>7.616852e+05</td>\n",
       "      <td>2023-01-01</td>\n",
       "      <td>0</td>\n",
       "      <td>-0.629690</td>\n",
       "    </tr>\n",
       "    <tr>\n",
       "      <th>12</th>\n",
       "      <td>2023-01-01 10:00:00</td>\n",
       "      <td>16537.52</td>\n",
       "      <td>16550.90</td>\n",
       "      <td>16532.48</td>\n",
       "      <td>16550.50</td>\n",
       "      <td>57.431614</td>\n",
       "      <td>9.500420e+05</td>\n",
       "      <td>2023-01-01</td>\n",
       "      <td>0</td>\n",
       "      <td>0.239746</td>\n",
       "    </tr>\n",
       "    <tr>\n",
       "      <th>13</th>\n",
       "      <td>2023-01-01 11:00:00</td>\n",
       "      <td>16550.50</td>\n",
       "      <td>16556.99</td>\n",
       "      <td>16541.61</td>\n",
       "      <td>16556.11</td>\n",
       "      <td>33.875597</td>\n",
       "      <td>5.606588e+05</td>\n",
       "      <td>2023-01-01</td>\n",
       "      <td>0</td>\n",
       "      <td>0.615519</td>\n",
       "    </tr>\n",
       "    <tr>\n",
       "      <th>14</th>\n",
       "      <td>2023-01-01 12:00:00</td>\n",
       "      <td>16556.11</td>\n",
       "      <td>16572.70</td>\n",
       "      <td>16551.51</td>\n",
       "      <td>16561.85</td>\n",
       "      <td>57.047831</td>\n",
       "      <td>9.447997e+05</td>\n",
       "      <td>2023-01-01</td>\n",
       "      <td>-1</td>\n",
       "      <td>1.000000</td>\n",
       "    </tr>\n",
       "    <tr>\n",
       "      <th>...</th>\n",
       "      <td>...</td>\n",
       "      <td>...</td>\n",
       "      <td>...</td>\n",
       "      <td>...</td>\n",
       "      <td>...</td>\n",
       "      <td>...</td>\n",
       "      <td>...</td>\n",
       "      <td>...</td>\n",
       "      <td>...</td>\n",
       "      <td>...</td>\n",
       "    </tr>\n",
       "    <tr>\n",
       "      <th>6995</th>\n",
       "      <td>2023-10-19 09:00:00</td>\n",
       "      <td>28325.23</td>\n",
       "      <td>28408.51</td>\n",
       "      <td>28284.01</td>\n",
       "      <td>28399.52</td>\n",
       "      <td>233.927777</td>\n",
       "      <td>6.633191e+06</td>\n",
       "      <td>2023-10-19</td>\n",
       "      <td>0</td>\n",
       "      <td>0.180832</td>\n",
       "    </tr>\n",
       "    <tr>\n",
       "      <th>6996</th>\n",
       "      <td>2023-10-19 10:00:00</td>\n",
       "      <td>28399.52</td>\n",
       "      <td>28514.68</td>\n",
       "      <td>28376.00</td>\n",
       "      <td>28479.17</td>\n",
       "      <td>575.845020</td>\n",
       "      <td>1.638399e+07</td>\n",
       "      <td>2023-10-19</td>\n",
       "      <td>-1</td>\n",
       "      <td>1.000000</td>\n",
       "    </tr>\n",
       "    <tr>\n",
       "      <th>6997</th>\n",
       "      <td>2023-10-19 11:00:00</td>\n",
       "      <td>28479.17</td>\n",
       "      <td>28495.61</td>\n",
       "      <td>28410.00</td>\n",
       "      <td>28452.85</td>\n",
       "      <td>166.232666</td>\n",
       "      <td>4.727775e+06</td>\n",
       "      <td>2023-10-19</td>\n",
       "      <td>0</td>\n",
       "      <td>0.729310</td>\n",
       "    </tr>\n",
       "    <tr>\n",
       "      <th>6998</th>\n",
       "      <td>2023-10-19 12:00:00</td>\n",
       "      <td>28452.85</td>\n",
       "      <td>28583.39</td>\n",
       "      <td>28424.87</td>\n",
       "      <td>28479.99</td>\n",
       "      <td>557.094214</td>\n",
       "      <td>1.587601e+07</td>\n",
       "      <td>2023-10-19</td>\n",
       "      <td>0</td>\n",
       "      <td>1.008433</td>\n",
       "    </tr>\n",
       "    <tr>\n",
       "      <th>6999</th>\n",
       "      <td>2023-10-19 13:00:00</td>\n",
       "      <td>28479.99</td>\n",
       "      <td>28588.86</td>\n",
       "      <td>28432.52</td>\n",
       "      <td>28486.36</td>\n",
       "      <td>366.061674</td>\n",
       "      <td>1.043276e+07</td>\n",
       "      <td>2023-10-19</td>\n",
       "      <td>0</td>\n",
       "      <td>1.073946</td>\n",
       "    </tr>\n",
       "  </tbody>\n",
       "</table>\n",
       "<p>6990 rows × 10 columns</p>\n",
       "</div>"
      ],
      "text/plain": [
       "                    time      open      high       low     close      volume  \\\n",
       "10   2023-01-01 08:00:00  16525.20  16532.82  16508.50  16513.86   56.835204   \n",
       "11   2023-01-01 09:00:00  16513.86  16541.26  16505.69  16537.52   46.099953   \n",
       "12   2023-01-01 10:00:00  16537.52  16550.90  16532.48  16550.50   57.431614   \n",
       "13   2023-01-01 11:00:00  16550.50  16556.99  16541.61  16556.11   33.875597   \n",
       "14   2023-01-01 12:00:00  16556.11  16572.70  16551.51  16561.85   57.047831   \n",
       "...                  ...       ...       ...       ...       ...         ...   \n",
       "6995 2023-10-19 09:00:00  28325.23  28408.51  28284.01  28399.52  233.927777   \n",
       "6996 2023-10-19 10:00:00  28399.52  28514.68  28376.00  28479.17  575.845020   \n",
       "6997 2023-10-19 11:00:00  28479.17  28495.61  28410.00  28452.85  166.232666   \n",
       "6998 2023-10-19 12:00:00  28452.85  28583.39  28424.87  28479.99  557.094214   \n",
       "6999 2023-10-19 13:00:00  28479.99  28588.86  28432.52  28486.36  366.061674   \n",
       "\n",
       "          turnover        date  class  norm_revenue  \n",
       "10    9.388235e+05  2023-01-01      1      0.000000  \n",
       "11    7.616852e+05  2023-01-01      0     -0.629690  \n",
       "12    9.500420e+05  2023-01-01      0      0.239746  \n",
       "13    5.606588e+05  2023-01-01      0      0.615519  \n",
       "14    9.447997e+05  2023-01-01     -1      1.000000  \n",
       "...            ...         ...    ...           ...  \n",
       "6995  6.633191e+06  2023-10-19      0      0.180832  \n",
       "6996  1.638399e+07  2023-10-19     -1      1.000000  \n",
       "6997  4.727775e+06  2023-10-19      0      0.729310  \n",
       "6998  1.587601e+07  2023-10-19      0      1.008433  \n",
       "6999  1.043276e+07  2023-10-19      0      1.073946  \n",
       "\n",
       "[6990 rows x 10 columns]"
      ]
     },
     "execution_count": 14,
     "metadata": {},
     "output_type": "execute_result"
    }
   ],
   "source": [
    "data"
   ]
  },
  {
   "cell_type": "code",
   "execution_count": 15,
   "metadata": {},
   "outputs": [],
   "source": [
    "# data.to_csv('E:/Биржа/data/data_with_normed_revenue.csv', index=False)"
   ]
  },
  {
   "cell_type": "code",
   "execution_count": 16,
   "metadata": {},
   "outputs": [
    {
     "data": {
      "text/plain": [
       "[<matplotlib.lines.Line2D at 0x2394183d300>]"
      ]
     },
     "execution_count": 16,
     "metadata": {},
     "output_type": "execute_result"
    },
    {
     "data": {
      "image/png": "[encoded data removed]",
      "text/plain": [
       "<Figure size 640x480 with 1 Axes>"
      ]
     },
     "metadata": {},
     "output_type": "display_data"
    }
   ],
   "source": [
    "i = 0\n",
    "plt.plot(data['norm_revenue'].loc[indexes[i]:indexes[i+1] - 1])"
   ]
  },
  {
   "cell_type": "markdown",
   "metadata": {},
   "source": [
    "Считаем индикаторы, собираем датасет с ними"
   ]
  },
  {
   "cell_type": "code",
   "execution_count": 17,
   "metadata": {},
   "outputs": [
    {
     "name": "stderr",
     "output_type": "stream",
     "text": [
      "e:\\Python310\\lib\\site-packages\\tqdm\\auto.py:21: TqdmWarning: IProgress not found. Please update jupyter and ipywidgets. See https://ipywidgets.readthedocs.io/en/stable/user_install.html\n",
      "  from .autonotebook import tqdm as notebook_tqdm\n"
     ]
    }
   ],
   "source": [
    "from calculate_ta_indicators import calculate_ta_indicators\n",
    "from optimizer import optimization\n",
    "from ta_strategies import RSI_Strategy, MAKD_Strategy\n",
    "from united_dfs import united_dfs"
   ]
  },
  {
   "cell_type": "code",
   "execution_count": 18,
   "metadata": {},
   "outputs": [],
   "source": [
    "cta = calculate_ta_indicators(data, rsi=14)"
   ]
  },
  {
   "cell_type": "code",
   "execution_count": 19,
   "metadata": {},
   "outputs": [],
   "source": [
    "d = united_dfs(data, cta)"
   ]
  },
  {
   "cell_type": "code",
   "execution_count": 20,
   "metadata": {},
   "outputs": [
    {
     "data": {
      "text/plain": [
       "Index(['index', 'time', 'open', 'high', 'low', 'close', 'volume', 'turnover',\n",
       "       'date', 'class', 'norm_revenue', 'macd', 'macdsignal', 'macdhist',\n",
       "       'macd_diff', 'rsi', 'upperband', 'middleband', 'lowerband', 'aroon_osc',\n",
       "       'lr_angle', 'hammer', 'shooting_star', 'evening_star', 'morning_star',\n",
       "       'piersing', 'three_white_soldiers', 'three_black_crowns', 'hanging_man',\n",
       "       'dark_cloud_clover'],\n",
       "      dtype='object')"
      ]
     },
     "execution_count": 20,
     "metadata": {},
     "output_type": "execute_result"
    }
   ],
   "source": [
    "d.columns"
   ]
  },
  {
   "cell_type": "markdown",
   "metadata": {},
   "source": [
    "Выделяем таргеты и предикторы"
   ]
  },
  {
   "cell_type": "code",
   "execution_count": 21,
   "metadata": {},
   "outputs": [],
   "source": [
    "X = d[['date','rsi']]\n",
    "\n",
    "y = d[['norm_revenue']]"
   ]
  },
  {
   "cell_type": "code",
   "execution_count": 22,
   "metadata": {},
   "outputs": [],
   "source": [
    "X_train = X[(X['date'] >= pd.to_datetime('2023-01-01').date()) & (X['date'] < pd.to_datetime('2023-07-01').date())][[x for x in X.columns if x not in  ['date']]]\n",
    "X_test = X[(X['date'] >= pd.to_datetime('2023-07-01').date()) & (X['date'] < pd.to_datetime('2023-08-01').date())][[x for x in X.columns if x not in  ['date']]]\n",
    "y_train = y.iloc[X_train.index]\n",
    "y_test = y.iloc[X_test.index]"
   ]
  },
  {
   "cell_type": "markdown",
   "metadata": {},
   "source": [
    "Попробовал RNN"
   ]
  },
  {
   "cell_type": "code",
   "execution_count": 23,
   "metadata": {},
   "outputs": [],
   "source": [
    "import torch\n",
    "import torch.nn as nn\n",
    "import numpy as np\n",
    "from torch.utils.data import Dataset, DataLoader\n",
    "\n",
    "# Шаг 1: Подготовка данных\n",
    "class CustomDataset(Dataset):\n",
    "    def __init__(self, X, y):\n",
    "        self.X = torch.tensor(X.values, dtype=torch.float32)\n",
    "        self.y = torch.tensor(y.values, dtype=torch.float32)\n",
    "\n",
    "    def __len__(self):\n",
    "        return len(self.X)\n",
    "\n",
    "    def __getitem__(self, idx):\n",
    "        return self.X[idx], self.y[idx]\n",
    "\n",
    "\n",
    "train_dataset = CustomDataset(X_train, y_train)\n",
    "train_loader = DataLoader(train_dataset, batch_size=10, shuffle=False)\n",
    "test_dataset = CustomDataset(X_test, y_test)\n",
    "\n",
    "# Шаг 2: Определение модели\n",
    "import torch\n",
    "from torch import nn\n",
    "import numpy as np\n",
    "import matplotlib.pyplot as plt\n",
    "\n",
    "torch.manual_seed(2019)\n",
    "\n",
    "# Hyperparameter settings\n",
    "TIME_STEP = 10 # RNN time step\n",
    "INPUT_SIZE = 1 # RNN input size\n",
    "INIT_LR = 0.02 # Initial learning rate\n",
    "N_EPOCHS = 100 # Number of training rounds\n",
    "\n",
    "\n",
    "class RNN(nn.Module):\n",
    "\n",
    "    def __init__(self):\n",
    "        super(RNN, self).__init__()\n",
    "        self.rnn = nn.RNN(\n",
    "            input_size=INPUT_SIZE,\n",
    "                         hidden_size=32, # Number of hidden neurons in RNN\n",
    "                         num_layers=1, # RNN hidden layer number\n",
    "        )\n",
    "        self.out = nn.Linear(32, 1)\n",
    "\n",
    "    def forward(self, x, h):\n",
    "        # x (time_step, batch_size, input_size)\n",
    "        # h (n_layers, batch, hidden_size)\n",
    "        # out (time_step, batch_size, hidden_size)\n",
    "        out, h = self.rnn(x, h)\n",
    "        prediction = self.out(out)\n",
    "        return prediction, h\n",
    "\n",
    "\n",
    "model = RNN()\n",
    "# Шаг 3: Обучение модели\n",
    "criterion = nn.MSELoss()\n",
    "optimizer = torch.optim.Adam(model.parameters(), lr=0.001)\n",
    "h_state = None\n",
    "num_epochs = 100\n",
    "for epoch in range(num_epochs):\n",
    "    for inputs, targets in train_loader:\n",
    "\n",
    "        prediction, h_state = model(inputs, h_state) # RNN output (prediction result, hidden state)\n",
    "        h_state = h_state.detach() # This line is very important, passing down the intermediate state of each output (without gradient)\n",
    "        loss = criterion(prediction, targets)\n",
    "        optimizer.zero_grad()\n",
    "        loss.backward()\n",
    "        optimizer.step()"
   ]
  },
  {
   "cell_type": "code",
   "execution_count": 24,
   "metadata": {},
   "outputs": [],
   "source": [
    "prediction, h_state = model(test_dataset.X, h_state)"
   ]
  },
  {
   "cell_type": "code",
   "execution_count": 25,
   "metadata": {},
   "outputs": [],
   "source": [
    "preds = np.ravel(prediction.detach().numpy())"
   ]
  },
  {
   "cell_type": "code",
   "execution_count": 26,
   "metadata": {},
   "outputs": [
    {
     "data": {
      "text/plain": [
       "7.338437649040142"
      ]
     },
     "execution_count": 26,
     "metadata": {},
     "output_type": "execute_result"
    }
   ],
   "source": [
    "mean_squared_error(preds, y_test.values)"
   ]
  },
  {
   "cell_type": "code",
   "execution_count": 30,
   "metadata": {},
   "outputs": [
    {
     "data": {
      "text/plain": [
       "<matplotlib.legend.Legend at 0x23961852650>"
      ]
     },
     "execution_count": 30,
     "metadata": {},
     "output_type": "execute_result"
    },
    {
     "data": {
      "image/png": "[encoded data removed]",
      "text/plain": [
       "<Figure size 2000x1000 with 1 Axes>"
      ]
     },
     "metadata": {},
     "output_type": "display_data"
    }
   ],
   "source": [
    "plt.figure(figsize=(20, 10))\n",
    "plt.plot(preds, label='preds')\n",
    "plt.plot(y_test.values, label = 'real')\n",
    "plt.legend()"
   ]
  },
  {
   "cell_type": "markdown",
   "metadata": {},
   "source": [
    "# Работа с переводом предсказаний в действия робота (надо думать как реализовывать пока можно не смотреть) #"
   ]
  },
  {
   "cell_type": "code",
   "execution_count": 930,
   "metadata": {},
   "outputs": [],
   "source": [
    "data_for_rev_calculation = X_test\n",
    "data_for_rev_calculation['norm_revenue'] = preds"
   ]
  },
  {
   "cell_type": "code",
   "execution_count": 931,
   "metadata": {},
   "outputs": [],
   "source": [
    "data_for_rev_calculation['time'] = d['time'].loc[data_for_rev_calculation.index]\n",
    "data_for_rev_calculation['high'] = d['high'].loc[data_for_rev_calculation.index]\n",
    "data_for_rev_calculation['low'] = d['low'].loc[data_for_rev_calculation.index]"
   ]
  },
  {
   "cell_type": "code",
   "execution_count": 932,
   "metadata": {},
   "outputs": [],
   "source": [
    "data_for_rev_calculation['class'] = data_for_rev_calculation['norm_revenue'].apply(lambda x: int(round(x,0)))"
   ]
  },
  {
   "cell_type": "code",
   "execution_count": 933,
   "metadata": {},
   "outputs": [],
   "source": [
    "data_for_rev_calculation['buy_price'] = data_for_rev_calculation['close']*data_for_rev_calculation['class']\n",
    "data_for_rev_calculation['buy_price'] = data_for_rev_calculation['buy_price'].apply(lambda x: None if x == 0 else  (-x if x < 0 else None))"
   ]
  },
  {
   "cell_type": "code",
   "execution_count": 934,
   "metadata": {},
   "outputs": [],
   "source": [
    "data_for_rev_calculation['sell_price'] = data_for_rev_calculation['close']*data_for_rev_calculation['class']\n",
    "data_for_rev_calculation['sell_price'] = data_for_rev_calculation['sell_price'].apply(lambda x: None if x == 0 else  (x if x > 0 else None))"
   ]
  },
  {
   "cell_type": "code",
   "execution_count": 937,
   "metadata": {},
   "outputs": [
    {
     "data": {
      "text/html": [
       "<div>\n",
       "<style scoped>\n",
       "    .dataframe tbody tr th:only-of-type {\n",
       "        vertical-align: middle;\n",
       "    }\n",
       "\n",
       "    .dataframe tbody tr th {\n",
       "        vertical-align: top;\n",
       "    }\n",
       "\n",
       "    .dataframe thead th {\n",
       "        text-align: right;\n",
       "    }\n",
       "</style>\n",
       "<table border=\"1\" class=\"dataframe\">\n",
       "  <thead>\n",
       "    <tr style=\"text-align: right;\">\n",
       "      <th></th>\n",
       "      <th>open</th>\n",
       "      <th>close</th>\n",
       "      <th>rsi</th>\n",
       "      <th>norm_revenue</th>\n",
       "      <th>high</th>\n",
       "      <th>low</th>\n",
       "      <th>class</th>\n",
       "      <th>buy_price</th>\n",
       "      <th>sell_price</th>\n",
       "    </tr>\n",
       "    <tr>\n",
       "      <th>time</th>\n",
       "      <th></th>\n",
       "      <th></th>\n",
       "      <th></th>\n",
       "      <th></th>\n",
       "      <th></th>\n",
       "      <th></th>\n",
       "      <th></th>\n",
       "      <th></th>\n",
       "      <th></th>\n",
       "    </tr>\n",
       "  </thead>\n",
       "  <tbody>\n",
       "    <tr>\n",
       "      <th>2023-07-01 00:00:00</th>\n",
       "      <td>30477.09</td>\n",
       "      <td>30474.00</td>\n",
       "      <td>49.500805</td>\n",
       "      <td>0.016763</td>\n",
       "      <td>30537.71</td>\n",
       "      <td>30425.90</td>\n",
       "      <td>0</td>\n",
       "      <td>NaN</td>\n",
       "      <td>NaN</td>\n",
       "    </tr>\n",
       "    <tr>\n",
       "      <th>2023-07-01 01:00:00</th>\n",
       "      <td>30474.00</td>\n",
       "      <td>30449.99</td>\n",
       "      <td>48.510062</td>\n",
       "      <td>-0.794363</td>\n",
       "      <td>30484.79</td>\n",
       "      <td>30384.29</td>\n",
       "      <td>-1</td>\n",
       "      <td>30449.99</td>\n",
       "      <td>NaN</td>\n",
       "    </tr>\n",
       "    <tr>\n",
       "      <th>2023-07-01 02:00:00</th>\n",
       "      <td>30449.99</td>\n",
       "      <td>30428.35</td>\n",
       "      <td>47.585632</td>\n",
       "      <td>-0.178895</td>\n",
       "      <td>30535.00</td>\n",
       "      <td>30392.50</td>\n",
       "      <td>0</td>\n",
       "      <td>NaN</td>\n",
       "      <td>NaN</td>\n",
       "    </tr>\n",
       "    <tr>\n",
       "      <th>2023-07-01 03:00:00</th>\n",
       "      <td>30428.35</td>\n",
       "      <td>30397.54</td>\n",
       "      <td>46.234712</td>\n",
       "      <td>-0.472152</td>\n",
       "      <td>30444.69</td>\n",
       "      <td>30378.70</td>\n",
       "      <td>0</td>\n",
       "      <td>NaN</td>\n",
       "      <td>NaN</td>\n",
       "    </tr>\n",
       "    <tr>\n",
       "      <th>2023-07-01 04:00:00</th>\n",
       "      <td>30397.54</td>\n",
       "      <td>30391.07</td>\n",
       "      <td>45.939768</td>\n",
       "      <td>-0.385365</td>\n",
       "      <td>30418.00</td>\n",
       "      <td>30326.01</td>\n",
       "      <td>0</td>\n",
       "      <td>NaN</td>\n",
       "      <td>NaN</td>\n",
       "    </tr>\n",
       "    <tr>\n",
       "      <th>...</th>\n",
       "      <td>...</td>\n",
       "      <td>...</td>\n",
       "      <td>...</td>\n",
       "      <td>...</td>\n",
       "      <td>...</td>\n",
       "      <td>...</td>\n",
       "      <td>...</td>\n",
       "      <td>...</td>\n",
       "      <td>...</td>\n",
       "    </tr>\n",
       "    <tr>\n",
       "      <th>2023-07-31 19:00:00</th>\n",
       "      <td>29197.03</td>\n",
       "      <td>29162.01</td>\n",
       "      <td>34.544594</td>\n",
       "      <td>-0.877518</td>\n",
       "      <td>29237.96</td>\n",
       "      <td>29115.46</td>\n",
       "      <td>-1</td>\n",
       "      <td>29162.01</td>\n",
       "      <td>NaN</td>\n",
       "    </tr>\n",
       "    <tr>\n",
       "      <th>2023-07-31 20:00:00</th>\n",
       "      <td>29162.01</td>\n",
       "      <td>29211.12</td>\n",
       "      <td>40.483986</td>\n",
       "      <td>-1.045879</td>\n",
       "      <td>29258.42</td>\n",
       "      <td>29118.05</td>\n",
       "      <td>-1</td>\n",
       "      <td>29211.12</td>\n",
       "      <td>NaN</td>\n",
       "    </tr>\n",
       "    <tr>\n",
       "      <th>2023-07-31 21:00:00</th>\n",
       "      <td>29211.12</td>\n",
       "      <td>29240.54</td>\n",
       "      <td>43.775384</td>\n",
       "      <td>-0.811639</td>\n",
       "      <td>29310.13</td>\n",
       "      <td>29162.00</td>\n",
       "      <td>-1</td>\n",
       "      <td>29240.54</td>\n",
       "      <td>NaN</td>\n",
       "    </tr>\n",
       "    <tr>\n",
       "      <th>2023-07-31 22:00:00</th>\n",
       "      <td>29240.54</td>\n",
       "      <td>29209.84</td>\n",
       "      <td>41.214017</td>\n",
       "      <td>-0.965714</td>\n",
       "      <td>29240.54</td>\n",
       "      <td>29203.99</td>\n",
       "      <td>-1</td>\n",
       "      <td>29209.84</td>\n",
       "      <td>NaN</td>\n",
       "    </tr>\n",
       "    <tr>\n",
       "      <th>2023-07-31 23:00:00</th>\n",
       "      <td>29209.84</td>\n",
       "      <td>29234.04</td>\n",
       "      <td>43.995805</td>\n",
       "      <td>-0.827429</td>\n",
       "      <td>29238.92</td>\n",
       "      <td>29195.55</td>\n",
       "      <td>-1</td>\n",
       "      <td>29234.04</td>\n",
       "      <td>NaN</td>\n",
       "    </tr>\n",
       "  </tbody>\n",
       "</table>\n",
       "<p>744 rows × 9 columns</p>\n",
       "</div>"
      ],
      "text/plain": [
       "                         open     close        rsi  norm_revenue      high  \\\n",
       "time                                                                         \n",
       "2023-07-01 00:00:00  30477.09  30474.00  49.500805      0.016763  30537.71   \n",
       "2023-07-01 01:00:00  30474.00  30449.99  48.510062     -0.794363  30484.79   \n",
       "2023-07-01 02:00:00  30449.99  30428.35  47.585632     -0.178895  30535.00   \n",
       "2023-07-01 03:00:00  30428.35  30397.54  46.234712     -0.472152  30444.69   \n",
       "2023-07-01 04:00:00  30397.54  30391.07  45.939768     -0.385365  30418.00   \n",
       "...                       ...       ...        ...           ...       ...   \n",
       "2023-07-31 19:00:00  29197.03  29162.01  34.544594     -0.877518  29237.96   \n",
       "2023-07-31 20:00:00  29162.01  29211.12  40.483986     -1.045879  29258.42   \n",
       "2023-07-31 21:00:00  29211.12  29240.54  43.775384     -0.811639  29310.13   \n",
       "2023-07-31 22:00:00  29240.54  29209.84  41.214017     -0.965714  29240.54   \n",
       "2023-07-31 23:00:00  29209.84  29234.04  43.995805     -0.827429  29238.92   \n",
       "\n",
       "                          low  class  buy_price  sell_price  \n",
       "time                                                         \n",
       "2023-07-01 00:00:00  30425.90      0        NaN         NaN  \n",
       "2023-07-01 01:00:00  30384.29     -1   30449.99         NaN  \n",
       "2023-07-01 02:00:00  30392.50      0        NaN         NaN  \n",
       "2023-07-01 03:00:00  30378.70      0        NaN         NaN  \n",
       "2023-07-01 04:00:00  30326.01      0        NaN         NaN  \n",
       "...                       ...    ...        ...         ...  \n",
       "2023-07-31 19:00:00  29115.46     -1   29162.01         NaN  \n",
       "2023-07-31 20:00:00  29118.05     -1   29211.12         NaN  \n",
       "2023-07-31 21:00:00  29162.00     -1   29240.54         NaN  \n",
       "2023-07-31 22:00:00  29203.99     -1   29209.84         NaN  \n",
       "2023-07-31 23:00:00  29195.55     -1   29234.04         NaN  \n",
       "\n",
       "[744 rows x 9 columns]"
      ]
     },
     "execution_count": 937,
     "metadata": {},
     "output_type": "execute_result"
    }
   ],
   "source": [
    "data_for_rev_calculation"
   ]
  },
  {
   "cell_type": "code",
   "execution_count": 935,
   "metadata": {},
   "outputs": [],
   "source": [
    "df = data_for_rev_calculation\n",
    "df.set_index('time', inplace=True)"
   ]
  },
  {
   "cell_type": "code",
   "execution_count": 936,
   "metadata": {},
   "outputs": [
    {
     "name": "stderr",
     "output_type": "stream",
     "text": [
      "e:\\Python310\\lib\\site-packages\\mplfinance\\_arg_validators.py:84: UserWarning: \n",
      "\n",
      " ================================================================= \n",
      "\n",
      "   WARNING: YOU ARE PLOTTING SO MUCH DATA THAT IT MAY NOT BE\n",
      "            POSSIBLE TO SEE DETAILS (Candles, Ohlc-Bars, Etc.)\n",
      "   For more information see:\n",
      "   - https://github.com/matplotlib/mplfinance/wiki/Plotting-Too-Much-Data\n",
      "   \n",
      "   TO SILENCE THIS WARNING, set `type='line'` in `mpf.plot()`\n",
      "   OR set kwarg `warn_too_much_data=N` where N is an integer \n",
      "   LARGER than the number of data points you want to plot.\n",
      "\n",
      " ================================================================ \n",
      "  warnings.warn('\\n\\n ================================================================= '+\n"
     ]
    },
    {
     "data": {
      "image/png": "[encoded data removed]",
      "text/plain": [
       "<Figure size 2000x1000 with 2 Axes>"
      ]
     },
     "metadata": {},
     "output_type": "display_data"
    }
   ],
   "source": [
    "sell_plot = mpf.make_addplot(df['sell_price'],type='scatter',markersize=100,marker='v',color=\"r\")\n",
    "buy_plot = mpf.make_addplot(df['buy_price'],type='scatter',markersize=100,marker='^',color=\"g\")\n",
    "mpf.plot(df, type = 'candle', style='yahoo', figsize=(20,10), addplot=[sell_plot, buy_plot])"
   ]
  },
  {
   "cell_type": "code",
   "execution_count": 796,
   "metadata": {},
   "outputs": [
    {
     "data": {
      "text/plain": [
       "class\n",
       " 0    675\n",
       " 1     39\n",
       "-1     30\n",
       "Name: count, dtype: int64"
      ]
     },
     "execution_count": 796,
     "metadata": {},
     "output_type": "execute_result"
    }
   ],
   "source": [
    "data_for_rev_calculation['class'].value_counts()"
   ]
  },
  {
   "cell_type": "code",
   "execution_count": 797,
   "metadata": {},
   "outputs": [
    {
     "data": {
      "text/html": [
       "<div>\n",
       "<style scoped>\n",
       "    .dataframe tbody tr th:only-of-type {\n",
       "        vertical-align: middle;\n",
       "    }\n",
       "\n",
       "    .dataframe tbody tr th {\n",
       "        vertical-align: top;\n",
       "    }\n",
       "\n",
       "    .dataframe thead th {\n",
       "        text-align: right;\n",
       "    }\n",
       "</style>\n",
       "<table border=\"1\" class=\"dataframe\">\n",
       "  <thead>\n",
       "    <tr style=\"text-align: right;\">\n",
       "      <th></th>\n",
       "      <th>open</th>\n",
       "      <th>close</th>\n",
       "      <th>rsi</th>\n",
       "      <th>class</th>\n",
       "      <th>high</th>\n",
       "      <th>low</th>\n",
       "      <th>buy_price</th>\n",
       "      <th>sell_price</th>\n",
       "    </tr>\n",
       "    <tr>\n",
       "      <th>time</th>\n",
       "      <th></th>\n",
       "      <th></th>\n",
       "      <th></th>\n",
       "      <th></th>\n",
       "      <th></th>\n",
       "      <th></th>\n",
       "      <th></th>\n",
       "      <th></th>\n",
       "    </tr>\n",
       "  </thead>\n",
       "  <tbody>\n",
       "    <tr>\n",
       "      <th>2023-07-01 00:00:00</th>\n",
       "      <td>30477.09</td>\n",
       "      <td>30474.00</td>\n",
       "      <td>50.568396</td>\n",
       "      <td>0</td>\n",
       "      <td>30537.71</td>\n",
       "      <td>30425.90</td>\n",
       "      <td>NaN</td>\n",
       "      <td>NaN</td>\n",
       "    </tr>\n",
       "    <tr>\n",
       "      <th>2023-07-01 01:00:00</th>\n",
       "      <td>30474.00</td>\n",
       "      <td>30449.99</td>\n",
       "      <td>48.423710</td>\n",
       "      <td>0</td>\n",
       "      <td>30484.79</td>\n",
       "      <td>30384.29</td>\n",
       "      <td>NaN</td>\n",
       "      <td>NaN</td>\n",
       "    </tr>\n",
       "    <tr>\n",
       "      <th>2023-07-01 02:00:00</th>\n",
       "      <td>30449.99</td>\n",
       "      <td>30428.35</td>\n",
       "      <td>46.396822</td>\n",
       "      <td>0</td>\n",
       "      <td>30535.00</td>\n",
       "      <td>30392.50</td>\n",
       "      <td>NaN</td>\n",
       "      <td>NaN</td>\n",
       "    </tr>\n",
       "    <tr>\n",
       "      <th>2023-07-01 03:00:00</th>\n",
       "      <td>30428.35</td>\n",
       "      <td>30397.54</td>\n",
       "      <td>43.438325</td>\n",
       "      <td>0</td>\n",
       "      <td>30444.69</td>\n",
       "      <td>30378.70</td>\n",
       "      <td>NaN</td>\n",
       "      <td>NaN</td>\n",
       "    </tr>\n",
       "    <tr>\n",
       "      <th>2023-07-01 04:00:00</th>\n",
       "      <td>30397.54</td>\n",
       "      <td>30391.07</td>\n",
       "      <td>42.783591</td>\n",
       "      <td>0</td>\n",
       "      <td>30418.00</td>\n",
       "      <td>30326.01</td>\n",
       "      <td>NaN</td>\n",
       "      <td>NaN</td>\n",
       "    </tr>\n",
       "    <tr>\n",
       "      <th>...</th>\n",
       "      <td>...</td>\n",
       "      <td>...</td>\n",
       "      <td>...</td>\n",
       "      <td>...</td>\n",
       "      <td>...</td>\n",
       "      <td>...</td>\n",
       "      <td>...</td>\n",
       "      <td>...</td>\n",
       "    </tr>\n",
       "    <tr>\n",
       "      <th>2023-07-31 19:00:00</th>\n",
       "      <td>29197.03</td>\n",
       "      <td>29162.01</td>\n",
       "      <td>24.596076</td>\n",
       "      <td>0</td>\n",
       "      <td>29237.96</td>\n",
       "      <td>29115.46</td>\n",
       "      <td>NaN</td>\n",
       "      <td>NaN</td>\n",
       "    </tr>\n",
       "    <tr>\n",
       "      <th>2023-07-31 20:00:00</th>\n",
       "      <td>29162.01</td>\n",
       "      <td>29211.12</td>\n",
       "      <td>36.793028</td>\n",
       "      <td>0</td>\n",
       "      <td>29258.42</td>\n",
       "      <td>29118.05</td>\n",
       "      <td>NaN</td>\n",
       "      <td>NaN</td>\n",
       "    </tr>\n",
       "    <tr>\n",
       "      <th>2023-07-31 21:00:00</th>\n",
       "      <td>29211.12</td>\n",
       "      <td>29240.54</td>\n",
       "      <td>43.094948</td>\n",
       "      <td>0</td>\n",
       "      <td>29310.13</td>\n",
       "      <td>29162.00</td>\n",
       "      <td>NaN</td>\n",
       "      <td>NaN</td>\n",
       "    </tr>\n",
       "    <tr>\n",
       "      <th>2023-07-31 22:00:00</th>\n",
       "      <td>29240.54</td>\n",
       "      <td>29209.84</td>\n",
       "      <td>38.515331</td>\n",
       "      <td>0</td>\n",
       "      <td>29240.54</td>\n",
       "      <td>29203.99</td>\n",
       "      <td>NaN</td>\n",
       "      <td>NaN</td>\n",
       "    </tr>\n",
       "    <tr>\n",
       "      <th>2023-07-31 23:00:00</th>\n",
       "      <td>29209.84</td>\n",
       "      <td>29234.04</td>\n",
       "      <td>43.887294</td>\n",
       "      <td>0</td>\n",
       "      <td>29238.92</td>\n",
       "      <td>29195.55</td>\n",
       "      <td>NaN</td>\n",
       "      <td>NaN</td>\n",
       "    </tr>\n",
       "  </tbody>\n",
       "</table>\n",
       "<p>744 rows × 8 columns</p>\n",
       "</div>"
      ],
      "text/plain": [
       "                         open     close        rsi  class      high       low  \\\n",
       "time                                                                            \n",
       "2023-07-01 00:00:00  30477.09  30474.00  50.568396      0  30537.71  30425.90   \n",
       "2023-07-01 01:00:00  30474.00  30449.99  48.423710      0  30484.79  30384.29   \n",
       "2023-07-01 02:00:00  30449.99  30428.35  46.396822      0  30535.00  30392.50   \n",
       "2023-07-01 03:00:00  30428.35  30397.54  43.438325      0  30444.69  30378.70   \n",
       "2023-07-01 04:00:00  30397.54  30391.07  42.783591      0  30418.00  30326.01   \n",
       "...                       ...       ...        ...    ...       ...       ...   \n",
       "2023-07-31 19:00:00  29197.03  29162.01  24.596076      0  29237.96  29115.46   \n",
       "2023-07-31 20:00:00  29162.01  29211.12  36.793028      0  29258.42  29118.05   \n",
       "2023-07-31 21:00:00  29211.12  29240.54  43.094948      0  29310.13  29162.00   \n",
       "2023-07-31 22:00:00  29240.54  29209.84  38.515331      0  29240.54  29203.99   \n",
       "2023-07-31 23:00:00  29209.84  29234.04  43.887294      0  29238.92  29195.55   \n",
       "\n",
       "                     buy_price  sell_price  \n",
       "time                                        \n",
       "2023-07-01 00:00:00        NaN         NaN  \n",
       "2023-07-01 01:00:00        NaN         NaN  \n",
       "2023-07-01 02:00:00        NaN         NaN  \n",
       "2023-07-01 03:00:00        NaN         NaN  \n",
       "2023-07-01 04:00:00        NaN         NaN  \n",
       "...                        ...         ...  \n",
       "2023-07-31 19:00:00        NaN         NaN  \n",
       "2023-07-31 20:00:00        NaN         NaN  \n",
       "2023-07-31 21:00:00        NaN         NaN  \n",
       "2023-07-31 22:00:00        NaN         NaN  \n",
       "2023-07-31 23:00:00        NaN         NaN  \n",
       "\n",
       "[744 rows x 8 columns]"
      ]
     },
     "execution_count": 797,
     "metadata": {},
     "output_type": "execute_result"
    }
   ],
   "source": [
    "data_for_rev_calculation"
   ]
  },
  {
   "cell_type": "code",
   "execution_count": 798,
   "metadata": {},
   "outputs": [],
   "source": [
    "buy_index = data_for_rev_calculation[data_for_rev_calculation['class'] == 1].index[0]\n",
    "data_for_rev_calculation = data_for_rev_calculation.loc[buy_index::]"
   ]
  },
  {
   "cell_type": "code",
   "execution_count": null,
   "metadata": {},
   "outputs": [],
   "source": [
    "data_for_rev_calculation['time'] = d['time'].iloc[data_for_rev_calculation.index]"
   ]
  },
  {
   "cell_type": "code",
   "execution_count": 800,
   "metadata": {},
   "outputs": [],
   "source": [
    "data_for_rev_calculation.reset_index(inplace=True)"
   ]
  },
  {
   "cell_type": "code",
   "execution_count": 801,
   "metadata": {},
   "outputs": [],
   "source": [
    "from testing_robot import robot"
   ]
  },
  {
   "cell_type": "code",
   "execution_count": 802,
   "metadata": {},
   "outputs": [
    {
     "name": "stdout",
     "output_type": "stream",
     "text": [
      "Buy 30434.95\n",
      "sell 30801.0\n",
      "revenue 1.0015263701763901\n",
      "Buy 30219.41\n",
      "sell 30385.7\n",
      "revenue 0.34972519317882406\n",
      "Buy 30237.32\n",
      "sell 30244.02\n",
      "revenue -0.17786410964992688\n",
      "Buy 30160.0\n",
      "sell 30527.99\n",
      "revenue 1.0189058687002706\n",
      "Buy 30097.81\n",
      "sell 30403.1\n",
      "revenue 0.8133119652227097\n",
      "Buy 30255.52\n",
      "sell 30288.0\n",
      "revenue -0.0927550410635826\n",
      "Buy 30178.01\n",
      "sell 30245.99\n",
      "revenue 0.025038098933638113\n",
      "Buy 30104.0\n",
      "sell 30102.35\n",
      "revenue -0.20547551820356583\n",
      "Buy 30042.81\n",
      "sell 30268.51\n",
      "revenue 0.5505100221983134\n",
      "Buy 29782.0\n",
      "sell 30112.01\n",
      "revenue 0.906977335303198\n",
      "Buy 30092.87\n",
      "sell 30140.0\n",
      "revenue -0.04354144353795095\n",
      "Buy 30008.0\n",
      "sell 29459.0\n",
      "revenue -2.0276826179685417\n"
     ]
    }
   ],
   "source": [
    "qty = 1\n",
    "init_sum = 100000\n",
    "bot = robot(cash=init_sum)\n",
    "\n",
    "open_p = []\n",
    "open_d = []\n",
    "\n",
    "close_p = []\n",
    "close_d = []\n",
    "\n",
    "transactions = 0\n",
    "mistakes = 0\n",
    "\n",
    "comission = 0.001\n",
    "\n",
    "buy = False\n",
    "sell = True\n",
    "\n",
    "for index,row in data_for_rev_calculation.iterrows():\n",
    "    points = row['class']\n",
    "    price = row['close']\n",
    "\n",
    "    if (points > 0) and (not buy):\n",
    "        b_p = price\n",
    "        bot.buy(qty=qty, price=b_p)\n",
    "\n",
    "        bot.cash -= b_p * comission\n",
    "\n",
    "        open_p.append(b_p)\n",
    "        open_d.append(row['time'])\n",
    "        \n",
    "        buy = not buy\n",
    "        sell = not sell\n",
    "\n",
    "        print(f\"Buy {price}\")\n",
    "        \n",
    "    if (points) < 0 and (not sell):\n",
    "        s_p = price\n",
    "        bot.sell(qty=qty, price=s_p)\n",
    "        bot.cash -= s_p * comission\n",
    "        close_d.append(row['time'])\n",
    "\n",
    "        buy = not buy\n",
    "        sell = not sell \n",
    "\n",
    "        transactions += 1\n",
    "        revenue = (s_p - b_p - (s_p + b_p)*comission) / b_p * 100\n",
    "        if revenue < 0:\n",
    "            mistakes+=1\n",
    "        \n",
    "        print(f\"sell {price}\")\n",
    "        print(f\"revenue {revenue}\")\n",
    "\n",
    "        close_p.append(s_p)"
   ]
  },
  {
   "cell_type": "code",
   "execution_count": 803,
   "metadata": {},
   "outputs": [],
   "source": [
    "buy = pd.DataFrame({'time' : open_d, 'buy_price' : open_p})\n",
    "sell = pd.DataFrame({'time' : close_d, 'sell_price' : close_p})\n",
    "\n",
    "buy.set_index('time', inplace=True)\n",
    "sell.set_index('time', inplace=True)"
   ]
  },
  {
   "cell_type": "code",
   "execution_count": 804,
   "metadata": {},
   "outputs": [],
   "source": [
    "import mplfinance as mpf"
   ]
  },
  {
   "cell_type": "code",
   "execution_count": null,
   "metadata": {},
   "outputs": [],
   "source": [
    "df = d.loc[data_for_rev_calculation.index]\n",
    "df.set_index('time', inplace=True)\n",
    "df = pd.merge(df, buy, on='time', how='left')\n",
    "df = pd.merge(df, sell, on='time', how='left')\n",
    "sell_plot = mpf.make_addplot(df['sell_price'],type='scatter',markersize=100,marker='v',color=\"r\")\n",
    "buy_plot = mpf.make_addplot(df['buy_price'],type='scatter',markersize=100,marker='^',color=\"g\")\n",
    "mpf.plot(df, type = 'candle', style='yahoo', figsize=(20,10), addplot=[sell_plot, buy_plot])"
   ]
  },
  {
   "cell_type": "code",
   "execution_count": 806,
   "metadata": {},
   "outputs": [
    {
     "data": {
      "text/plain": [
       "12"
      ]
     },
     "execution_count": 806,
     "metadata": {},
     "output_type": "execute_result"
    }
   ],
   "source": [
    "transactions"
   ]
  },
  {
   "cell_type": "code",
   "execution_count": 807,
   "metadata": {},
   "outputs": [
    {
     "data": {
      "text/plain": [
       "5"
      ]
     },
     "execution_count": 807,
     "metadata": {},
     "output_type": "execute_result"
    }
   ],
   "source": [
    "mistakes"
   ]
  },
  {
   "cell_type": "code",
   "execution_count": 808,
   "metadata": {},
   "outputs": [
    {
     "data": {
      "text/plain": [
       "0.4166666666666667"
      ]
     },
     "execution_count": 808,
     "metadata": {},
     "output_type": "execute_result"
    }
   ],
   "source": [
    "mistakes/transactions"
   ]
  },
  {
   "cell_type": "code",
   "execution_count": 809,
   "metadata": {},
   "outputs": [
    {
     "data": {
      "text/plain": [
       "0"
      ]
     },
     "execution_count": 809,
     "metadata": {},
     "output_type": "execute_result"
    }
   ],
   "source": [
    "bot.qty"
   ]
  },
  {
   "cell_type": "code",
   "execution_count": 810,
   "metadata": {},
   "outputs": [
    {
     "data": {
      "text/plain": [
       "0.6403796299999958"
      ]
     },
     "execution_count": 810,
     "metadata": {},
     "output_type": "execute_result"
    }
   ],
   "source": [
    "(bot.qty * data_for_rev_calculation.iloc[-1]['close'] + bot.cash - init_sum)/init_sum *100"
   ]
  },
  {
   "cell_type": "code",
   "execution_count": 811,
   "metadata": {},
   "outputs": [
    {
     "data": {
      "text/plain": [
       "100640.37963"
      ]
     },
     "execution_count": 811,
     "metadata": {},
     "output_type": "execute_result"
    }
   ],
   "source": [
    "bot.qty * data_for_rev_calculation.iloc[-1]['close'] + bot.cash"
   ]
  }
 ],
 "metadata": {
  "kernelspec": {
   "display_name": "Python 3",
   "language": "python",
   "name": "python3"
  },
  "language_info": {
   "codemirror_mode": {
    "name": "ipython",
    "version": 3
   },
   "file_extension": ".py",
   "mimetype": "text/x-python",
   "name": "python",
   "nbconvert_exporter": "python",
   "pygments_lexer": "ipython3",
   "version": "3.10.1"
  },
  "orig_nbformat": 4
 },
 "nbformat": 4,
 "nbformat_minor": 2
}
